{
 "cells": [
  {
   "cell_type": "markdown",
   "id": "71cb104c-588c-4a0d-b888-6c8449a2bc01",
   "metadata": {},
   "source": [
    "# Tokenizing and Translating Markdown with OpenAI\n",
    "\n",
    "## Introduction\n",
    "\n",
    "In this notebook, we will implement a pipeline to tokenize a markdown document, split it into chunks at multiple newlines, translate those chunks using OpenAI's LLMs, and reconstruct the full document while retaining original formatting.\n",
    "\n",
    "Specifically, we will:\n",
    "\n",
    "- Read in a markdown file \n",
    "- Tokenize the text into words, punctuation, etc.\n",
    "- Count the number of tokens\n",
    "- Split the tokens into chunks whenever there are multiple successive newlines \n",
    "- Translate each chunk into another language using OpenAI's translation LLMs\n",
    "- Reconstruct the translated chunks into a full document, preserving original formatting like headers, lists, etc.\n",
    "\n",
    "This allows us to get translations while keeping code blocks, images, tables intact. \n",
    "\n",
    "We'll use Python and Jupyter notebooks to implement the pipeline. The notebook will be structured into sections for each step of the process.\n",
    "\n",
    "To follow along, you'll want a markdown file to process. We'll use a small sample file included with the notebook. You'll need access to OpenAI's API.\n",
    "\n",
    "Let's get started! First we'll import the modules and setup the notebook. Then we'll define functions for each step - tokenizing, counting tokens, splitting, translating, and reconstructing."
   ]
  },
  {
   "cell_type": "markdown",
   "id": "a5231a58-0458-473d-a802-4f5f0caafe94",
   "metadata": {},
   "source": [
    "---"
   ]
  },
  {
   "cell_type": "markdown",
   "id": "f3db365a-1cf2-4936-ae1f-131f1894a7fe",
   "metadata": {},
   "source": [
    "### Config"
   ]
  },
  {
   "cell_type": "code",
   "execution_count": 1,
   "id": "46ff99b0-5fb7-407f-9a2a-be72da68098f",
   "metadata": {},
   "outputs": [],
   "source": [
    "input_language = \"english\"\n",
    "output_language = \"french\"\n",
    "input_path = \"data/input.txt\"\n",
    "format = \"markdown\" # any special formatting considerations (e.g. .arb file, markdown, json, plain text, or multiple)\n",
    "split_string = \"\\n\\n\" # the split string used to segment the chunks within the text."
   ]
  },
  {
   "cell_type": "markdown",
   "id": "32c2c0fa-a4be-4ab7-89cc-0e9a692e0660",
   "metadata": {},
   "source": [
    "### Setup"
   ]
  },
  {
   "cell_type": "code",
   "execution_count": 2,
   "id": "f201397c-c5e3-4229-934a-57b640b7d511",
   "metadata": {},
   "outputs": [
    {
     "name": "stdout",
     "output_type": "stream",
     "text": [
      "Requirement already satisfied: tiktoken in /Library/Frameworks/Python.framework/Versions/3.11/lib/python3.11/site-packages (0.5.1)\n",
      "Requirement already satisfied: regex>=2022.1.18 in /Library/Frameworks/Python.framework/Versions/3.11/lib/python3.11/site-packages (from tiktoken) (2023.6.3)\n",
      "Requirement already satisfied: requests>=2.26.0 in /Library/Frameworks/Python.framework/Versions/3.11/lib/python3.11/site-packages (from tiktoken) (2.31.0)\n",
      "Requirement already satisfied: charset-normalizer<4,>=2 in /Library/Frameworks/Python.framework/Versions/3.11/lib/python3.11/site-packages (from requests>=2.26.0->tiktoken) (3.1.0)\n",
      "Requirement already satisfied: idna<4,>=2.5 in /Library/Frameworks/Python.framework/Versions/3.11/lib/python3.11/site-packages (from requests>=2.26.0->tiktoken) (3.4)\n",
      "Requirement already satisfied: urllib3<3,>=1.21.1 in /Library/Frameworks/Python.framework/Versions/3.11/lib/python3.11/site-packages (from requests>=2.26.0->tiktoken) (1.26.16)\n",
      "Requirement already satisfied: certifi>=2017.4.17 in /Library/Frameworks/Python.framework/Versions/3.11/lib/python3.11/site-packages (from requests>=2.26.0->tiktoken) (2023.5.7)\n",
      "\n",
      "\u001b[1m[\u001b[0m\u001b[34;49mnotice\u001b[0m\u001b[1;39;49m]\u001b[0m\u001b[39;49m A new release of pip is available: \u001b[0m\u001b[31;49m23.1.2\u001b[0m\u001b[39;49m -> \u001b[0m\u001b[32;49m23.2.1\u001b[0m\n",
      "\u001b[1m[\u001b[0m\u001b[34;49mnotice\u001b[0m\u001b[1;39;49m]\u001b[0m\u001b[39;49m To update, run: \u001b[0m\u001b[32;49mpip3 install --upgrade pip\u001b[0m\n",
      "Note: you may need to restart the kernel to use updated packages.\n"
     ]
    }
   ],
   "source": [
    "%pip install --upgrade tiktoken"
   ]
  },
  {
   "cell_type": "code",
   "execution_count": 3,
   "id": "44dbb258-e065-4a27-9296-d9e346b49cd4",
   "metadata": {},
   "outputs": [],
   "source": [
    "import openai, tiktoken"
   ]
  },
  {
   "cell_type": "markdown",
   "id": "504e7129-7ae8-4b4c-8a67-c108aa531cf2",
   "metadata": {},
   "source": [
    "### Import Input File"
   ]
  },
  {
   "cell_type": "markdown",
   "id": "4ec6c37e-812d-4191-82a1-3080d5b0fb6a",
   "metadata": {},
   "source": [
    "Import the data file you want translated from `data/input.txt`."
   ]
  },
  {
   "cell_type": "code",
   "execution_count": 4,
   "id": "f1cf352f-2246-4aee-bd86-1c034cab0afc",
   "metadata": {},
   "outputs": [],
   "source": [
    "with open(input_path, \"r\") as f:\n",
    "    text = f.read()"
   ]
  },
  {
   "cell_type": "markdown",
   "id": "1d121723-ed09-48b0-a7c5-2441eae8526c",
   "metadata": {},
   "source": [
    "Length of the text file (for our purposes, we'll be using a small :"
   ]
  },
  {
   "cell_type": "code",
   "execution_count": 5,
   "id": "3ac60e6b-43bb-4fc2-99ac-3f1f975a6c2b",
   "metadata": {},
   "outputs": [
    {
     "data": {
      "text/plain": [
       "5667"
      ]
     },
     "execution_count": 5,
     "metadata": {},
     "output_type": "execute_result"
    }
   ],
   "source": [
    "len(text)"
   ]
  },
  {
   "cell_type": "markdown",
   "id": "546ddad7-463e-4e3c-ac61-7b6305c7683b",
   "metadata": {},
   "source": [
    "### Counting the tokens"
   ]
  },
  {
   "cell_type": "markdown",
   "id": "7a66a822-dddb-4eda-8ce5-f148461d3d8e",
   "metadata": {},
   "source": [
    "We'll use OpenAI's `tiktoken` - a fast open-source tokenizer:\n",
    "\n",
    "> Given a text string (e.g., `\"tiktoken is great!\"`) and an encoding (e.g., `\"cl100k_base\"`), a tokenizer can split the text string into a list of tokens (e.g., `[\"t\", \"ik\", \"token\", \" is\", \" great\", \"!\"]`).\n",
    "\n",
    "> Splitting text strings into tokens is useful because GPT models see text in the form of tokens. Knowing how many tokens are in a text string can tell you (a) whether the string is too long for a text model to process and (b) how much an OpenAI API call costs (as usage is priced by token)."
   ]
  },
  {
   "cell_type": "code",
   "execution_count": 6,
   "id": "effb6066-1756-4e1f-af01-497db122aebe",
   "metadata": {},
   "outputs": [],
   "source": [
    "encoding = tiktoken.encoding_for_model(\"gpt-3.5-turbo\")\n",
    "encoded_text = encoding.encode(text)\n",
    "input_token_count = len(encoded_text)"
   ]
  },
  {
   "cell_type": "code",
   "execution_count": 7,
   "id": "b67afe42-81e7-4b3d-b8e9-ea60f37aaecd",
   "metadata": {},
   "outputs": [
    {
     "data": {
      "text/plain": [
       "1062"
      ]
     },
     "execution_count": 7,
     "metadata": {},
     "output_type": "execute_result"
    }
   ],
   "source": [
    "input_token_count"
   ]
  },
  {
   "cell_type": "markdown",
   "id": "0a87c864-2da1-4881-abd6-8239c337a246",
   "metadata": {},
   "source": [
    "### Segment the file using the split_string"
   ]
  },
  {
   "cell_type": "markdown",
   "id": "ff4177b0-1f86-4f90-bb11-0659330d1a9c",
   "metadata": {},
   "source": [
    "**The number of chunks:**"
   ]
  },
  {
   "cell_type": "code",
   "execution_count": 8,
   "id": "f2b1e6b9-2ab9-4c06-bc52-ed12434929df",
   "metadata": {},
   "outputs": [],
   "source": [
    "split_text = text.split(split_string)"
   ]
  },
  {
   "cell_type": "code",
   "execution_count": 9,
   "id": "42f02a74-3d9d-4644-9c48-51fa227296af",
   "metadata": {},
   "outputs": [],
   "source": [
    "chunks = len(split_text)"
   ]
  },
  {
   "cell_type": "code",
   "execution_count": 10,
   "id": "55936406-a1d0-40bd-adeb-90c11ecf8412",
   "metadata": {},
   "outputs": [
    {
     "data": {
      "text/plain": [
       "16"
      ]
     },
     "execution_count": 10,
     "metadata": {},
     "output_type": "execute_result"
    }
   ],
   "source": [
    "chunks"
   ]
  },
  {
   "cell_type": "markdown",
   "id": "b6af4da9-02fe-4d40-940f-360539eaab8b",
   "metadata": {},
   "source": [
    "**Check the longest chunk to make sure it doesn't exceed the max length**"
   ]
  },
  {
   "cell_type": "code",
   "execution_count": 11,
   "id": "7202ddfa-03e5-45c1-b02c-b5c5e9e389b2",
   "metadata": {},
   "outputs": [],
   "source": [
    "longest_chunk = max(split_text, key=len)\n",
    "max_len = len(longest_chunk)"
   ]
  },
  {
   "cell_type": "code",
   "execution_count": 12,
   "id": "0a13bfca-3041-40a1-ae75-32f81b420251",
   "metadata": {},
   "outputs": [
    {
     "data": {
      "text/plain": [
       "'*   **Rank Tracking** - Monitoring keyword rankings manually is time consuming. Automated rank trackers refresh data continuously.\\n*   **Site Audits** - Crawling sites for issues like broken links and metadata problems is a rote task. Automated site audit tools can find 135+ problems.\\n*   **Brand Monitoring** - Tracking brand mentions and monitoring backlinks is tedious without automation. Brand monitoring tools automatically aggregate this data.\\n*   **Reporting** - Manual reporting in Excel or Data Studio is inefficient. Automated SEO reporting dashboards provide one-click access to data.\\n*   **Image Optimization** - With the rise of visual SERPs, image optimization is critical but laborious. Automated image compressors and upscalers streamline this.\\n*   **Site Speed Enhancements** - Page speed improvements like compressing images can be automated to run site-wide.'"
      ]
     },
     "execution_count": 12,
     "metadata": {},
     "output_type": "execute_result"
    }
   ],
   "source": [
    "longest_chunk"
   ]
  },
  {
   "cell_type": "code",
   "execution_count": 13,
   "id": "e5a18fc7-434a-4a63-96f9-3b3eac2f6baa",
   "metadata": {},
   "outputs": [
    {
     "data": {
      "text/plain": [
       "878"
      ]
     },
     "execution_count": 13,
     "metadata": {},
     "output_type": "execute_result"
    }
   ],
   "source": [
    "max_len"
   ]
  },
  {
   "cell_type": "markdown",
   "id": "4a6436e9-c634-4c0f-aaac-9b2b5c5e9ca8",
   "metadata": {},
   "source": [
    "### Generate Translation"
   ]
  },
  {
   "cell_type": "code",
   "execution_count": 14,
   "id": "6e4656c6-47d4-448d-b93f-ca6b21961ee9",
   "metadata": {},
   "outputs": [],
   "source": [
    "system_prompt = f\"You are a translation tool. You receive a string in a {format} format and written in {input_language}, and solely return the same string in {output_language} without losing the original {format} formatting. Your translations are accurate, aiming not to deviate from the original structure, content, writing style and tone.\""
   ]
  },
  {
   "cell_type": "code",
   "execution_count": 15,
   "id": "d37f5272-21c8-4042-b678-a0400b435286",
   "metadata": {
    "scrolled": true
   },
   "outputs": [
    {
     "data": {
      "text/plain": [
       "'You are a translation tool. You receive a string in a markdown format and written in english, and solely return the same string in french without losing the original markdown formatting. Your translations are accurate, aiming not to deviate from the original structure, content, writing style and tone.'"
      ]
     },
     "execution_count": 15,
     "metadata": {},
     "output_type": "execute_result"
    }
   ],
   "source": [
    "system_prompt"
   ]
  },
  {
   "cell_type": "markdown",
   "id": "a1f13dfa-d84c-4d38-bbbe-44612286958d",
   "metadata": {},
   "source": [
    "**Loop through the text segments, applying the translation and appending the translated string onto a new array**"
   ]
  },
  {
   "cell_type": "code",
   "execution_count": 16,
   "id": "915a55ec-2439-4f13-a52d-fea6918d3a83",
   "metadata": {},
   "outputs": [
    {
     "name": "stdout",
     "output_type": "stream",
     "text": [
      "Completed: 1/16\n",
      "Completed: 2/16\n",
      "Completed: 3/16\n",
      "Completed: 4/16\n",
      "Completed: 5/16\n",
      "Completed: 6/16\n",
      "Completed: 7/16\n",
      "Completed: 8/16\n",
      "Completed: 9/16\n",
      "Completed: 10/16\n",
      "Completed: 11/16\n",
      "Completed: 12/16\n",
      "Completed: 13/16\n",
      "Completed: 14/16\n",
      "Completed: 15/16\n",
      "Completed: 16/16\n"
     ]
    }
   ],
   "source": [
    "results = []\n",
    "counter = 0\n",
    "tokens_consumed = 0\n",
    "for text in split_text:\n",
    "    messages = [{\"role\": \"system\", \"content\": system_prompt}, {\"role\": \"user\", \"content\": text}]\n",
    "    model_paramters = { \"model\": \"gpt-4-0613\", \"messages\": messages, \"temperature\":1.0}\n",
    "\n",
    "    max_attempts = 10  # Maximum number of retry attempts\n",
    "    retry_gap = 3.0  # Initial gap between retries in seconds\n",
    "    completion = None\n",
    "    for attempt in range(max_attempts):\n",
    "        try:\n",
    "            completion = openai.ChatCompletion.create(**model_paramters)\n",
    "            results.append(completion[\"choices\"][0][\"message\"][\"content\"])\n",
    "            tokens_consumed += completion[\"usage\"][\"total_tokens\"]\n",
    "            counter += 1\n",
    "            print(f\"Completed: {counter}/{chunks}\")\n",
    "            break # Break inner loop on success\n",
    "        except Exception as e:\n",
    "            print(f\"Request failed on attempt {attempt + 1}. Error: {str(e)}\")\n",
    "            if attempt < max_attempts - 1:\n",
    "                retry_gap *= 1.5  # Increase the retry gap exponentially\n",
    "                time.sleep(retry_gap)"
   ]
  },
  {
   "cell_type": "markdown",
   "id": "34abe46a-7b07-4c8b-93ec-ff31eaf98f43",
   "metadata": {},
   "source": [
    "### Results"
   ]
  },
  {
   "cell_type": "code",
   "execution_count": 18,
   "id": "9fb84483-9e69-40fa-949d-70065447bf68",
   "metadata": {
    "scrolled": true
   },
   "outputs": [],
   "source": [
    "final_result = split_string.join(results)"
   ]
  },
  {
   "cell_type": "code",
   "execution_count": 19,
   "id": "9fc69a29-44db-4cf0-95b1-0ebb43f6793f",
   "metadata": {},
   "outputs": [
    {
     "name": "stdout",
     "output_type": "stream",
     "text": [
      "Dans le paysage numérique ultra-compétitif d'aujourd'hui, l'optimisation pour les moteurs de recherche (SEO) est plus importante que jamais pour les entreprises cherchant à générer un trafic ciblé vers leurs sites Web. Cependant, cela peut être un processus extrêmement chronophage et fastidieux. De la recherche de mots-clés aux audits techniques en passant par l'optimisation du contenu, le SEO nécessite l'accomplissement de nombreuses tâches répétitives. Le fait que cela soit si chronophage rend facile de le négliger! C'est ici qu'intervient l'automatisation du SEO.\n",
      "\n",
      "L'automatisation SEO fait référence à l'utilisation d'outils logiciels pour rationaliser et automatiser les flux de travail SEO courants. L'objectif est de libérer du temps passé sur des activités banales afin que vous puissiez vous concentrer sur la stratégie et l'analyse de haut niveau. Avec les bons outils d'automatisation, vous pouvez travailler plus intelligemment - pas plus dur. En utilisant l'intelligence artificielle (IA) et l'apprentissage automatique, vous pouvez automatiser plus que jamais, gagnant du temps et améliorant les résultats. Ce guide complet explorera les capacités croissantes de l'automatisation SEO et comment elle révolutionne l'optimisation pour les moteurs de recherche.\n",
      "\n",
      "Dans ce guide complet, nous explorerons tout ce que vous devez savoir sur **l'automatisation du SEO** à l'ère moderne. Nous aborderons des sujets clés tels que :\n",
      "\n",
      "*   Qu'est-ce que l'automatisation SEO et comment peut-elle aider vos efforts ?\n",
      "*   Un aperçu des capacités et des outils actuels d'automatisation SEO.\n",
      "*   Le rôle que l'IA joue dans l'avancement de l'automatisation.\n",
      "*   Des instructions étape par étape pour mettre en œuvre une stratégie d'automatisation SEO.\n",
      "*   7 outils indispensables pour automatiser les tâches SEO.\n",
      "*   Des tactiques avancées pour obtenir encore plus de l'automatisation.\n",
      "*   Un regard sur l'avenir de l'automatisation SEO.\n",
      "\n",
      "Plus spécifiquement, nous couvrirons également des outils plus pratiques comme [Nack](https://www.nack.ai) pour la création de contenu automatisé, la recherche de mots-clés et l'analyse de la concurrence. Des outils comme [Nack](https://nack.ai) permettent une optimisation incroyablement granulaire tout en nécessitant une supervision manuelle minimale. Enfin, nous regarderons vers l'avenir de l'automatisation du SEO alimentée par l'intelligence artificielle et l'apprentissage automatique.\n",
      "\n",
      "À la fin de ce guide complet, vous aurez une bonne compréhension de comment utiliser l'automatisation SEO pour éliminer les tâches répétitives, et augmenter la portée des campagnes. Vous comprendrez comment tirer profit de l'automatisation pour améliorer vos résultats SEO et surpasser les concurrents. Vous découvrirez également comment des outils comme [Nack](https://nack.ai) utilisent l'IA de pointe pour porter l'automatisation SEO au niveau supérieur. Commençons!\n",
      "\n",
      "## Qu'est-ce que l'automatisation SEO ?\n",
      "\n",
      "L'automatisation SEO fait référence au processus d'utilisation d'outils logiciels et de systèmes pour automatiser les tâches SEO répétitives. Le but est d'optimiser les flux de travail et de libérer du temps pour que les professionnels du SEO puissent se concentrer sur la stratégie et l'analyse de haut niveau. Avec les bons outils, de nombreuses activités SEO fastidieuses peuvent être entièrement ou partiellement automatisées.\n",
      "\n",
      "Certains des principaux avantages de l'automatisation SEO comprennent :\n",
      "\n",
      "*   **Efficacité accrue** - L'automatisation des activités routinières comme le suivi des classements, la réalisation d'audits et la création de rapports permet un gain de temps et d'effort considérable. Les experts en SEO peuvent réaffecter ce temps à un travail plus significatif.\n",
      "*   **Scalabilité accrue** - Les outils logiciels vous permettent de gérer le SEO sur plus de sites et de pages. Des choses comme le suivi des classements et la résolution des problèmes techniques deviennent plus scalables.\n",
      "*   **Meilleure compréhension** - Les outils automatisés fournissent des données détaillées sur tous les aspects du SEO. Ceci alimente une meilleure analyse et prise de décision.\n",
      "*   **Consistence** - Le logiciel vous permet d'effectuer des tâches comme la création de liens, l'optimisation du contenu et l'étiquetage de manière consistante et méthodique.\n",
      "*   **Avantage compétitif** - L'automatisation permet aux entreprises de devancer les concurrents qui s'appuient encore sur des efforts manuels et des feuilles de calcul.\n",
      "\n",
      "Quelques exemples de tâches SEO répétitives qui peuvent être automatisées incluent :\n",
      "\n",
      "*   **Suivi de classement** - Suivre manuellement le classement par mots-clés est chronophage. Les trackers de rang automate actualisent continuellement les données.  \n",
      "*   **Audits de site** - Balayer les sites à la recherche de problèmes comme les liens rompus et les problèmes de métadonnées est une tâche répétitive. Les outils automatiques d'audit de site peuvent trouver plus de 135 problèmes.\n",
      "*   **Suivi de marque** - Suivre les mentions de marque et surveiller les backlinks est fastidieux sans automatisation. Les outils de surveillance automatique de marque regroupent automatiquement ces données.\n",
      "*   **Rapports** - Faire des rapports manuellement dans Excel ou Data Studio est inefficace. Les tableaux de bord de rapport SEO automatiques donnent un accès en un clic aux données.\n",
      "*   **Optimisation de l'image** - Avec la montée des SERPs visuels, l'optimisation de l'image est critique mais laborieuse. Les compresseurs et agrandisseurs d'image automatiques simplifient cela.\n",
      "*   **Améliorations de la vitesse du site** - Les améliorations de la vitesse de la page, comme la compression des images, peuvent être automatisées pour s'exécuter sur l'ensemble du site.\n",
      "\n",
      "L'avantage clé de l'automatisation du SEO est l'énorme gain de temps. Les processus manuels répétitifs peuvent prendre des heures chaque semaine. L'automatisation vous permet d'accomplir ces tâches en quelques secondes ou minutes. La clé est d'utiliser l'automatisation pour augmenter la productivité et développer les efforts de SEO. Cependant, la supervision humaine, la stratégie et la créativité restent indispensables. Des outils alimentés par l'IA comme [Nack](https://www.nack.ai/) emmènent l'automatisation du SEO au niveau supérieur avec des capacités comme l'optimisation automatique du contenu et l'analyse concurrentielle.\n",
      "\n",
      "Cette efficacité vous permet de concentrer votre énergie sur la stratégie et la planification SEO de haut niveau. Avec le travail de base géré par le logiciel, vous avez plus de temps pour des idées créatives et des expériences d'optimisation percutantes.\n",
      "\n",
      "L'automatisation du SEO réduit également les erreurs humaines. Les processus manuels conduisent souvent à des erreurs occasionnelles, comme oublier de vérifier un classement ou faire une faute de frappe dans un rapport. La technologie effectue des tâches de manière constante sans erreurs.\n",
      "\n",
      "De plus, l'automatisation augmente vos efforts de SEO. Vous pouvez suivre et analyser un plus grand nombre de mots-clés et de pages que ce qui serait faisable manuellement. Cette perspective plus large révèle souvent des opportunités d'optimisation....\n"
     ]
    }
   ],
   "source": [
    "print(final_result)"
   ]
  },
  {
   "cell_type": "code",
   "execution_count": 20,
   "id": "62bfc1c4-902d-4b8e-9436-49c953ab620a",
   "metadata": {},
   "outputs": [
    {
     "data": {
      "text/plain": [
       "3967"
      ]
     },
     "execution_count": 20,
     "metadata": {},
     "output_type": "execute_result"
    }
   ],
   "source": [
    "tokens_consumed"
   ]
  },
  {
   "cell_type": "code",
   "execution_count": null,
   "id": "f8fa1d4d-c0ff-4e04-9382-24c5c7adc19f",
   "metadata": {},
   "outputs": [],
   "source": []
  }
 ],
 "metadata": {
  "kernelspec": {
   "display_name": "Python 3 (ipykernel)",
   "language": "python",
   "name": "python3"
  },
  "language_info": {
   "codemirror_mode": {
    "name": "ipython",
    "version": 3
   },
   "file_extension": ".py",
   "mimetype": "text/x-python",
   "name": "python",
   "nbconvert_exporter": "python",
   "pygments_lexer": "ipython3",
   "version": "3.11.4"
  }
 },
 "nbformat": 4,
 "nbformat_minor": 5
}
